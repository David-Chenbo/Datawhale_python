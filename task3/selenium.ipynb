{
 "cells": [
  {
   "cell_type": "markdown",
   "metadata": {},
   "source": [
    "# selenium\n",
    "- selenium是什么：一个自动化测试工具（大家都是这么说的）\n",
    "- selenium应用场景：用代码的方式去模拟浏览器操作过程（如：打开浏览器、在输入框里输入文字、回车等），在爬虫方面很有必要\n",
    "- 准备工作：\n",
    "\n",
    "1. 安装selenium（pip install selenium）\n",
    "2. 安装chromedriver（一个驱动程序，用以启动chrome浏览器，具体的驱动程序需要对应的驱动，在官网上可以找到下载地址）\n",
    "基本步骤："
   ]
  },
  {
   "cell_type": "markdown",
   "metadata": {},
   "source": [
    "1、导入模块："
   ]
  },
  {
   "cell_type": "code",
   "execution_count": 33,
   "metadata": {
    "ExecuteTime": {
     "end_time": "2020-04-25T03:46:35.274710Z",
     "start_time": "2020-04-25T03:46:35.202087Z"
    },
    "collapsed": true
   },
   "outputs": [],
   "source": [
    "from selenium import webdriver  # 启动浏览器需要用到\n",
    "from selenium.webdriver.common.keys import Keys  # 提供键盘按键支持（最后一个K要大写）"
   ]
  },
  {
   "cell_type": "markdown",
   "metadata": {},
   "source": [
    "2、创建一个WebDriver实例："
   ]
  },
  {
   "cell_type": "code",
   "execution_count": 34,
   "metadata": {
    "ExecuteTime": {
     "end_time": "2020-04-25T12:15:19.711657Z",
     "start_time": "2020-04-25T12:15:19.688601Z"
    },
    "collapsed": false
   },
   "outputs": [],
   "source": [
    "driver = webdriver.Chrome(\"C:/Users/David/Desktop/chromedriver\")"
   ]
  },
  {
   "cell_type": "markdown",
   "metadata": {},
   "source": [
    "3、打开一个页面:"
   ]
  },
  {
   "cell_type": "code",
   "execution_count": 35,
   "metadata": {
    "collapsed": false
   },
   "outputs": [],
   "source": [
    "driver.get(\"https://www.runoob.com/linux/linux-tutorial.html\")  # 这个时候chromedriver会打开一个Chrome浏览器窗口，显示的是网址所对应的页面"
   ]
  },
  {
   "cell_type": "markdown",
   "metadata": {},
   "source": [
    "4、关闭页面"
   ]
  },
  {
   "cell_type": "code",
   "execution_count": 20,
   "metadata": {
    "collapsed": true
   },
   "outputs": [],
   "source": [
    "# driver.close()  # 关闭浏览器一个Tab\n",
    "# or\n",
    "driver.quit()  # 关闭浏览器窗口"
   ]
  },
  {
   "cell_type": "markdown",
   "metadata": {},
   "source": [
    "# 高级-查找元素：\n",
    "- 在打开页面和关闭页面中间，就是各种操作！而查找元素这一点，和爬虫常见的HTML页面解析，定位到具体的某个元素基本一样，只不过，调用者是driver\n"
   ]
  },
  {
   "cell_type": "code",
   "execution_count": 36,
   "metadata": {
    "collapsed": false
   },
   "outputs": [],
   "source": [
    "element = driver.find_element_by_id(\"google_osd_static_frame_9762872534460\")  "
   ]
  },
  {
   "cell_type": "markdown",
   "metadata": {},
   "source": [
    "# 高级-页面交互：\n",
    "- 找到元素后，就是进行“交互”，如键盘输入（需提前导入模块）\n"
   ]
  },
  {
   "cell_type": "code",
   "execution_count": null,
   "metadata": {
    "collapsed": false
   },
   "outputs": [],
   "source": [
    "element.send_keys(“some text”）  # 往一个可以输入对象中输入“some text”\n",
    "#甚至\n",
    "\n",
    "element.send_keys(Keys.RETURN）  # 模拟键盘回车\n",
    "#一般来说，这种方式输入后会一直存在，而要清空某个文本框中的文字，就需要：\n",
    "\n",
    "element.clear()  # 清空element对象中的文字"
   ]
  },
  {
   "cell_type": "markdown",
   "metadata": {},
   "source": [
    "# 高级-等待页面加载（wait）\n",
    "- 应用场景：含有ajax加载的page！因为在这种情况下，页面内的某个节点并不是在一开始就出现了，而在这种情况下，就不能“查找元素”，元素选择不到，就不好进行交互操作！等待页面加载这两个模块经常是一起导入的：\n"
   ]
  },
  {
   "cell_type": "code",
   "execution_count": 26,
   "metadata": {
    "collapsed": true
   },
   "outputs": [],
   "source": [
    "from selenium.webdriver.support.ui import WebDriverWait\n",
    "from selenium.webdriver.support import expected_conditions as EC"
   ]
  },
  {
   "cell_type": "markdown",
   "metadata": {},
   "source": [
    "- 显示等待：触发某个条件后才能够执行后续的代码"
   ]
  },
  {
   "cell_type": "code",
   "execution_count": null,
   "metadata": {
    "collapsed": false
   },
   "outputs": [],
   "source": [
    "driver = webdriver.Firefox()\n",
    "driver.get(\"http://somedomain/url_that_delays_loading\")\n",
    "try:    \n",
    "    element = WebDriverWait(driver, 10).until(           \n",
    "        EC.presence_of_element_located((By.ID, \"myDynamicElement\")))\n",
    "finally:    \n",
    "    driver.quit()\n",
    "#其中，presence_of_element_located是条件，By.ID是通过什么方式来确认元素（这个是通过id），\"myDynamicElement\"这个就是某个元素的ID"
   ]
  },
  {
   "cell_type": "markdown",
   "metadata": {},
   "source": [
    "- 隐示等待：设置某个具体的等待时间"
   ]
  },
  {
   "cell_type": "code",
   "execution_count": null,
   "metadata": {
    "collapsed": false
   },
   "outputs": [],
   "source": [
    "driver = webdriver.Firefox()\n",
    "driver.implicitly_wait(10) # seconds\n",
    "driver.get(\"http://somedomain/url_that_delays_loading\")\n",
    "myDynamicElement = driver.find_element_by_id(\"myDynami\")"
   ]
  }
 ],
 "metadata": {
  "kernelspec": {
   "display_name": "Python 3",
   "language": "python",
   "name": "python3"
  },
  "language_info": {
   "codemirror_mode": {
    "name": "ipython",
    "version": 3
   },
   "file_extension": ".py",
   "mimetype": "text/x-python",
   "name": "python",
   "nbconvert_exporter": "python",
   "pygments_lexer": "ipython3",
   "version": "3.5.6"
  },
  "toc": {
   "base_numbering": 1,
   "nav_menu": {},
   "number_sections": true,
   "sideBar": true,
   "skip_h1_title": false,
   "title_cell": "Table of Contents",
   "title_sidebar": "Contents",
   "toc_cell": false,
   "toc_position": {},
   "toc_section_display": true,
   "toc_window_display": false
  },
  "varInspector": {
   "cols": {
    "lenName": 16,
    "lenType": 16,
    "lenVar": 40
   },
   "kernels_config": {
    "python": {
     "delete_cmd_postfix": "",
     "delete_cmd_prefix": "del ",
     "library": "var_list.py",
     "varRefreshCmd": "print(var_dic_list())"
    },
    "r": {
     "delete_cmd_postfix": ") ",
     "delete_cmd_prefix": "rm(",
     "library": "var_list.r",
     "varRefreshCmd": "cat(var_dic_list()) "
    }
   },
   "types_to_exclude": [
    "module",
    "function",
    "builtin_function_or_method",
    "instance",
    "_Feature"
   ],
   "window_display": false
  }
 },
 "nbformat": 4,
 "nbformat_minor": 2
}
